{
  "nbformat": 4,
  "nbformat_minor": 0,
  "metadata": {
    "colab": {
      "provenance": [],
      "collapsed_sections": []
    },
    "kernelspec": {
      "name": "python3",
      "display_name": "Python 3"
    },
    "language_info": {
      "name": "python"
    }
  },
  "cells": [
    {
      "cell_type": "markdown",
      "source": [
        "#### Preparing our dataset"
      ],
      "metadata": {
        "id": "26p4o0MpZpbB"
      }
    },
    {
      "cell_type": "code",
      "source": [
        "import numpy as np\n",
        "from sklearn import datasets\n",
        "from sklearn.model_selection import train_test_split\n",
        "import matplotlib.pyplot as plt\n",
        "from matplotlib.colors import ListedColormap\n",
        "cmap = ListedColormap(['#FF0000', '#00FF00', '#0000FF'])\n",
        "\n",
        "iris = datasets.load_iris()\n",
        "X, y = iris.data, iris.target\n",
        "\n",
        "X_train, X_test, y_train, y_test = train_test_split(X, y, test_size=0.2, random_state=1234)\n",
        "\n",
        "plt.scatter(X[:,2], X[:,3], c=y, cmap=cmap, edgecolors='k', s=20)\n",
        "plt.ylabel('Petal Length', size=20)\n",
        "plt.xlabel('Petal Width', size=20)\n",
        "plt.grid()"
      ],
      "metadata": {
        "colab": {
          "base_uri": "https://localhost:8080/",
          "height": 288
        },
        "id": "9wbj4c5VZoq9",
        "outputId": "c6ce1921-5c49-40d4-da5e-78bd897c5dfc"
      },
      "execution_count": 18,
      "outputs": [
        {
          "output_type": "display_data",
          "data": {
            "text/plain": [
              "<Figure size 432x288 with 1 Axes>"
            ],
            "image/png": "[encoded data removed]"
          },
          "metadata": {
            "needs_background": "light"
          }
        }
      ]
    },
    {
      "cell_type": "markdown",
      "source": [
        "#### Implementing the KNN logic"
      ],
      "metadata": {
        "id": "5U0tjtgZV0Z1"
      }
    },
    {
      "cell_type": "code",
      "execution_count": 31,
      "metadata": {
        "id": "eGONBSk1KZTd"
      },
      "outputs": [],
      "source": [
        "from collections import Counter\n",
        "\n",
        "def distance(x1, x2):\n",
        "  '''Returns the euclidean distance between two given arrays/ numbers.'''\n",
        "  return np.sqrt(np.sum((x1-x2)**2))\n",
        "\n",
        "class KNN:\n",
        "  '''Implementing the KNN algorithm in classification.'''\n",
        "  def __init__(self, k=5):\n",
        "    self.k = k\n",
        "\n",
        "  def fit(self, X, y):\n",
        "    '''Getting the training dataset.'''\n",
        "    self.X_train = X\n",
        "    self.y_train = y\n",
        "\n",
        "  def predict(self, X):\n",
        "    '''Making predictions for an array/ list of x values.'''\n",
        "    y_pred = [self._predict(x) for x in X]\n",
        "    return y_pred\n",
        "\n",
        "  def _predict(self, x):\n",
        "    '''Helper function to make predictions for a single data point.'''\n",
        "    # calculate the distance to each point in train set\n",
        "    distances = [distance(x, x2) for x2 in self.X_train]\n",
        "\n",
        "    # Get the closest K neighbors based off computed distance\n",
        "    k_nearest_indices = np.argsort(distances)[:self.k] # getting the indices of the k nearest training values\n",
        "    #print(k_nearest_indices)\n",
        "    k_nearest_labels = [self.y_train[i] for i in k_nearest_indices] #getting the labels of corresponding k nearest indices\n",
        "    #print(k_nearest_labels)\n",
        "\n",
        "    # Classify x based off majority vote\n",
        "    return Counter(k_nearest_labels).most_common()[0][0] # returns the most common key"
      ]
    },
    {
      "cell_type": "markdown",
      "source": [
        "#### Testing the KNN Classifier"
      ],
      "metadata": {
        "id": "VaRdwxgPV6If"
      }
    },
    {
      "cell_type": "code",
      "source": [
        "classifier = KNN(k=5)\n",
        "classifier.fit(X_train, y_train)\n",
        "y_pred = classifier.predict(X_test)\n",
        "\n",
        "accuracy = np.sum(y_pred == y_test) / len(y_test)\n",
        "\n",
        "print(y_pred)\n",
        "print(y_test)\n",
        "print(accuracy)"
      ],
      "metadata": {
        "colab": {
          "base_uri": "https://localhost:8080/"
        },
        "id": "TdTQlxIqV-FG",
        "outputId": "a1a413a3-3a83-4dc5-9772-1582a19562ee"
      },
      "execution_count": 36,
      "outputs": [
        {
          "output_type": "stream",
          "name": "stdout",
          "text": [
            "[1, 2, 2, 0, 1, 0, 0, 0, 1, 2, 1, 0, 2, 1, 0, 1, 2, 0, 2, 1, 1, 1, 1, 1, 2, 0, 2, 1, 2, 0]\n",
            "[1 1 2 0 1 0 0 0 1 2 1 0 2 1 0 1 2 0 2 1 1 1 1 1 2 0 2 1 2 0]\n",
            "0.9666666666666667\n"
          ]
        }
      ]
    },
    {
      "cell_type": "markdown",
      "source": [
        "###### Credits: https://www.youtube.com/watch?v=rTEtEy5o3X0"
      ],
      "metadata": {
        "id": "qjXr5J7wKb58"
      }
    }
  ]
}